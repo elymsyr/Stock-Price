{
 "cells": [
  {
   "cell_type": "code",
   "execution_count": 1,
   "metadata": {},
   "outputs": [],
   "source": [
    "import numpy as np\n",
    "import matplotlib.pyplot as plt\n",
    "import pandas as pd\n",
    "from sklearn.preprocessing import MinMaxScaler\n",
    "from keras.models import load_model\n",
    "import joblib\n",
    "from stock_price_api import *"
   ]
  },
  {
   "cell_type": "code",
   "execution_count": null,
   "metadata": {},
   "outputs": [],
   "source": [
    "model = load_model('lstm_model.h5')\n",
    "scaler = joblib.load('scaler.gz')"
   ]
  },
  {
   "cell_type": "code",
   "execution_count": 2,
   "metadata": {},
   "outputs": [
    {
     "name": "stdout",
     "output_type": "stream",
     "text": [
      "2024-04-05 2024-07-14\n",
      "{'2024-07-12': {'open': 228.92, 'high': 232.64, 'low': 228.68, 'close': 230.54, 'adjusted_close': 230.54, 'volume': 53008200}, '2024-07-11': {'open': 231.39, 'high': 232.39, 'low': 225.77, 'close': 227.57, 'adjusted_close': 227.57, 'volume': 64710600}, '2024-07-10': {'open': 229.3, 'high': 233.08, 'low': 229.25, 'close': 232.98, 'adjusted_close': 232.98, 'volume': 62627700}, '2024-07-09': {'open': 227.93, 'high': 229.4, 'low': 226.37, 'close': 228.68, 'adjusted_close': 228.68, 'volume': 48076100}, '2024-07-08': {'open': 227.09, 'high': 227.85, 'low': 223.25, 'close': 227.82, 'adjusted_close': 227.82, 'volume': 59085900}, '2024-07-05': {'open': 221.65, 'high': 226.45, 'low': 221.65, 'close': 226.34, 'adjusted_close': 226.34, 'volume': 60412400}, '2024-07-03': {'open': 220, 'high': 221.55, 'low': 219.03, 'close': 221.55, 'adjusted_close': 221.55, 'volume': 37369800}, '2024-07-02': {'open': 216.15, 'high': 220.38, 'low': 215.1, 'close': 220.27, 'adjusted_close': 220.27, 'volume': 58046200}, '2024-07-01': {'open': 212.09, 'high': 217.51, 'low': 211.92, 'close': 216.75, 'adjusted_close': 216.75, 'volume': 60402900}, '2024-06-28': {'open': 215.77, 'high': 216.07, 'low': 210.3, 'close': 210.62, 'adjusted_close': 210.62, 'volume': 82542700}, '2024-06-27': {'open': 214.69, 'high': 215.74, 'low': 212.35, 'close': 214.1, 'adjusted_close': 214.1, 'volume': 49772700}, '2024-06-26': {'open': 211.5, 'high': 214.86, 'low': 210.64, 'close': 213.25, 'adjusted_close': 213.25, 'volume': 66213200}, '2024-06-25': {'open': 209.15, 'high': 211.38, 'low': 208.61, 'close': 209.07, 'adjusted_close': 209.07, 'volume': 56713900}, '2024-06-24': {'open': 207.72, 'high': 212.7, 'low': 206.59, 'close': 208.14, 'adjusted_close': 208.14, 'volume': 80727000}, '2024-06-21': {'open': 210.39, 'high': 211.89, 'low': 207.11, 'close': 207.49, 'adjusted_close': 207.49, 'volume': 246421400}, '2024-06-20': {'open': 213.93, 'high': 214.24, 'low': 208.85, 'close': 209.68, 'adjusted_close': 209.68, 'volume': 86172500}, '2024-06-18': {'open': 217.59, 'high': 218.63, 'low': 213, 'close': 214.29, 'adjusted_close': 214.29, 'volume': 79943300}, '2024-06-17': {'open': 213.37, 'high': 218.95, 'low': 212.72, 'close': 216.67, 'adjusted_close': 216.67, 'volume': 93728300}, '2024-06-14': {'open': 213.85, 'high': 215.17, 'low': 211.3, 'close': 212.49, 'adjusted_close': 212.49, 'volume': 70122700}, '2024-06-13': {'open': 214.74, 'high': 216.75, 'low': 211.6, 'close': 214.24, 'adjusted_close': 214.24, 'volume': 97862700}, '2024-06-12': {'open': 207.37, 'high': 220.2, 'low': 206.9, 'close': 213.07, 'adjusted_close': 213.07, 'volume': 198134300}, '2024-06-11': {'open': 193.65, 'high': 207.16, 'low': 193.63, 'close': 207.15, 'adjusted_close': 207.15, 'volume': 172373300}, '2024-06-10': {'open': 196.9, 'high': 197.3, 'low': 192.15, 'close': 193.12, 'adjusted_close': 193.12, 'volume': 97262100}, '2024-06-07': {'open': 194.65, 'high': 196.94, 'low': 194.14, 'close': 196.89, 'adjusted_close': 196.89, 'volume': 53103900}, '2024-06-06': {'open': 195.69, 'high': 196.5, 'low': 194.17, 'close': 194.48, 'adjusted_close': 194.48, 'volume': 41181800}, '2024-06-05': {'open': 195.4, 'high': 196.9, 'low': 194.87, 'close': 195.87, 'adjusted_close': 195.87, 'volume': 54156800}, '2024-06-04': {'open': 194.64, 'high': 195.32, 'low': 193.03, 'close': 194.35, 'adjusted_close': 194.35, 'volume': 47471400}, '2024-06-03': {'open': 192.9, 'high': 194.99, 'low': 192.52, 'close': 194.03, 'adjusted_close': 194.03, 'volume': 50080500}, '2024-05-31': {'open': 191.44, 'high': 192.57, 'low': 189.91, 'close': 192.25, 'adjusted_close': 192.25, 'volume': 75158300}, '2024-05-30': {'open': 190.76, 'high': 192.18, 'low': 190.63, 'close': 191.29, 'adjusted_close': 191.29, 'volume': 49947900}, '2024-05-29': {'open': 189.61, 'high': 192.25, 'low': 189.51, 'close': 190.29, 'adjusted_close': 190.29, 'volume': 53068000}, '2024-05-28': {'open': 191.51, 'high': 193, 'low': 189.1, 'close': 189.99, 'adjusted_close': 189.99, 'volume': 52280100}, '2024-05-24': {'open': 188.82, 'high': 190.58, 'low': 188.04, 'close': 189.98, 'adjusted_close': 189.98, 'volume': 36294600}, '2024-05-23': {'open': 190.98, 'high': 191, 'low': 186.63, 'close': 186.88, 'adjusted_close': 186.88, 'volume': 51005900}, '2024-05-22': {'open': 192.27, 'high': 192.82, 'low': 190.27, 'close': 190.9, 'adjusted_close': 190.9, 'volume': 34648500}, '2024-05-21': {'open': 191.09, 'high': 192.73, 'low': 190.92, 'close': 192.35, 'adjusted_close': 192.35, 'volume': 42309400}, '2024-05-20': {'open': 189.33, 'high': 191.92, 'low': 189.01, 'close': 191.04, 'adjusted_close': 191.04, 'volume': 44361300}, '2024-05-17': {'open': 189.51, 'high': 190.81, 'low': 189.18, 'close': 189.87, 'adjusted_close': 189.87, 'volume': 41282900}, '2024-05-16': {'open': 190.47, 'high': 191.1, 'low': 189.66, 'close': 189.84, 'adjusted_close': 189.84, 'volume': 52845200}, '2024-05-15': {'open': 187.91, 'high': 190.65, 'low': 187.37, 'close': 189.72, 'adjusted_close': 189.72, 'volume': 70400000}, '2024-05-14': {'open': 187.51, 'high': 188.3, 'low': 186.29, 'close': 187.43, 'adjusted_close': 187.43, 'volume': 52393600}, '2024-05-13': {'open': 185.44, 'high': 187.1, 'low': 184.62, 'close': 186.28, 'adjusted_close': 186.28, 'volume': 72044800}, '2024-05-10': {'open': 184.9, 'high': 185.09, 'low': 182.13, 'close': 183.05, 'adjusted_close': 183.05, 'volume': 50759500}, '2024-05-09': {'open': 182.56, 'high': 184.66, 'low': 182.11, 'close': 184.57, 'adjusted_close': 184.32, 'volume': 48983000}, '2024-05-08': {'open': 182.85, 'high': 183.07, 'low': 181.45, 'close': 182.74, 'adjusted_close': 182.4925, 'volume': 45057100}, '2024-05-07': {'open': 183.45, 'high': 184.9, 'low': 181.32, 'close': 182.4, 'adjusted_close': 182.1529, 'volume': 77305800}, '2024-05-06': {'open': 182.35, 'high': 184.2, 'low': 180.42, 'close': 181.71, 'adjusted_close': 181.4639, 'volume': 78569700}, '2024-05-03': {'open': 186.65, 'high': 187, 'low': 182.66, 'close': 183.38, 'adjusted_close': 183.1316, 'volume': 163224100}, '2024-05-02': {'open': 172.51, 'high': 173.42, 'low': 170.89, 'close': 173.03, 'adjusted_close': 172.7956, 'volume': 94214900}, '2024-05-01': {'open': 169.58, 'high': 172.71, 'low': 169.11, 'close': 169.3, 'adjusted_close': 169.0707, 'volume': 50383100}, '2024-04-30': {'open': 173.33, 'high': 174.99, 'low': 170, 'close': 170.33, 'adjusted_close': 170.0993, 'volume': 65934800}, '2024-04-29': {'open': 173.37, 'high': 176.03, 'low': 173.1, 'close': 173.5, 'adjusted_close': 173.265, 'volume': 68169400}, '2024-04-26': {'open': 169.88, 'high': 171.34, 'low': 169.18, 'close': 169.3, 'adjusted_close': 169.0707, 'volume': 44838400}, '2024-04-25': {'open': 169.53, 'high': 170.61, 'low': 168.15, 'close': 169.89, 'adjusted_close': 169.6599, 'volume': 50558300}, '2024-04-24': {'open': 166.54, 'high': 169.3, 'low': 166.21, 'close': 169.02, 'adjusted_close': 168.7911, 'volume': 48251800}, '2024-04-23': {'open': 165.35, 'high': 167.05, 'low': 164.92, 'close': 166.9, 'adjusted_close': 166.6739, 'volume': 49537800}, '2024-04-22': {'open': 165.52, 'high': 167.26, 'low': 164.77, 'close': 165.84, 'adjusted_close': 165.6154, 'volume': 48116400}, '2024-04-19': {'open': 166.21, 'high': 166.4, 'low': 164.08, 'close': 165, 'adjusted_close': 164.7765, 'volume': 67772100}, '2024-04-18': {'open': 168.03, 'high': 168.64, 'low': 166.55, 'close': 167.04, 'adjusted_close': 166.8137, 'volume': 43122900}, '2024-04-17': {'open': 169.61, 'high': 170.65, 'low': 168, 'close': 168, 'adjusted_close': 167.7724, 'volume': 50901200}, '2024-04-16': {'open': 171.75, 'high': 173.76, 'low': 168.27, 'close': 169.38, 'adjusted_close': 169.1506, 'volume': 73711200}, '2024-04-15': {'open': 175.36, 'high': 176.63, 'low': 172.5, 'close': 172.69, 'adjusted_close': 172.4561, 'volume': 73531800}, '2024-04-12': {'open': 174.26, 'high': 178.36, 'low': 174.21, 'close': 176.55, 'adjusted_close': 176.3109, 'volume': 101593300}, '2024-04-11': {'open': 168.34, 'high': 175.46, 'low': 168.16, 'close': 175.04, 'adjusted_close': 174.8029, 'volume': 91070300}, '2024-04-10': {'open': 168.8, 'high': 169.09, 'low': 167.11, 'close': 167.78, 'adjusted_close': 167.5527, 'volume': 49709300}, '2024-04-09': {'open': 168.7, 'high': 170.08, 'low': 168.35, 'close': 169.67, 'adjusted_close': 169.4402, 'volume': 42451200}, '2024-04-08': {'open': 169.03, 'high': 169.2, 'low': 168.24, 'close': 168.45, 'adjusted_close': 168.2218, 'volume': 37425500}, '2024-04-05': {'open': 169.59, 'high': 170.39, 'low': 168.95, 'close': 169.58, 'adjusted_close': 169.3503, 'volume': 42055200}}\n",
      "20\n",
      "                   Open         High          Low        Close    Adj Close  \\\n",
      "2024-07-12 228.92000000 232.64000000 228.68000000 230.54000000 230.54000000   \n",
      "2024-07-11 231.39000000 232.39000000 225.77000000 227.57000000 227.57000000   \n",
      "2024-07-10 229.30000000 233.08000000 229.25000000 232.98000000 232.98000000   \n",
      "2024-07-09 227.93000000 229.40000000 226.37000000 228.68000000 228.68000000   \n",
      "2024-07-08 227.09000000 227.85000000 223.25000000 227.82000000 227.82000000   \n",
      "2024-07-05 221.65000000 226.45000000 221.65000000 226.34000000 226.34000000   \n",
      "2024-07-03 220.00000000 221.55000000 219.03000000 221.55000000 221.55000000   \n",
      "2024-07-02 216.15000000 220.38000000 215.10000000 220.27000000 220.27000000   \n",
      "2024-07-01 212.09000000 217.51000000 211.92000000 216.75000000 216.75000000   \n",
      "2024-06-28 215.77000000 216.07000000 210.30000000 210.62000000 210.62000000   \n",
      "2024-06-27 214.69000000 215.74000000 212.35000000 214.10000000 214.10000000   \n",
      "2024-06-26 211.50000000 214.86000000 210.64000000 213.25000000 213.25000000   \n",
      "2024-06-25 209.15000000 211.38000000 208.61000000 209.07000000 209.07000000   \n",
      "2024-06-24 207.72000000 212.70000000 206.59000000 208.14000000 208.14000000   \n",
      "2024-06-21 210.39000000 211.89000000 207.11000000 207.49000000 207.49000000   \n",
      "2024-06-20 213.93000000 214.24000000 208.85000000 209.68000000 209.68000000   \n",
      "2024-06-18 217.59000000 218.63000000 213.00000000 214.29000000 214.29000000   \n",
      "2024-06-17 213.37000000 218.95000000 212.72000000 216.67000000 216.67000000   \n",
      "2024-06-14 213.85000000 215.17000000 211.30000000 212.49000000 212.49000000   \n",
      "2024-06-13 214.74000000 216.75000000 211.60000000 214.24000000 214.24000000   \n",
      "\n",
      "               Volume  \n",
      "2024-07-12   53008200  \n",
      "2024-07-11   64710600  \n",
      "2024-07-10   62627700  \n",
      "2024-07-09   48076100  \n",
      "2024-07-08   59085900  \n",
      "2024-07-05   60412400  \n",
      "2024-07-03   37369800  \n",
      "2024-07-02   58046200  \n",
      "2024-07-01   60402900  \n",
      "2024-06-28   82542700  \n",
      "2024-06-27   49772700  \n",
      "2024-06-26   66213200  \n",
      "2024-06-25   56713900  \n",
      "2024-06-24   80727000  \n",
      "2024-06-21  246421400  \n",
      "2024-06-20   86172500  \n",
      "2024-06-18   79943300  \n",
      "2024-06-17   93728300  \n",
      "2024-06-14   70122700  \n",
      "2024-06-13   97862700  \n"
     ]
    }
   ],
   "source": [
    "data_dict, today = get_data(day_before=100, order='d')\n",
    "df= format_data(data_dict)\n",
    "df = df.head(20)\n",
    "print(len(df))\n",
    "print(df)"
   ]
  },
  {
   "cell_type": "code",
   "execution_count": 3,
   "metadata": {},
   "outputs": [],
   "source": [
    "def get_scaled_data(df: pd.DataFrame, scaler: MinMaxScaler, data_size:int=500, path:str=r\"..\\Data\\AAPL_stock_prices.csv\", delimeter: str = ',', from_end: bool = True, date_column: str = 'Date', target_column: str = 'Close'):\n",
    "    target_column_index = df.columns.tolist().index(target_column)\n",
    "    scaled_data = scaler.fit_transform(df)\n",
    "    return scaled_data, target_column_index"
   ]
  },
  {
   "cell_type": "code",
   "execution_count": 5,
   "metadata": {},
   "outputs": [],
   "source": [
    "scaler = MinMaxScaler(feature_range=(0, 1))\n",
    "scaled_data, target_column_index = get_scaled_data(df=df, scaler=scaler)"
   ]
  },
  {
   "cell_type": "code",
   "execution_count": 6,
   "metadata": {},
   "outputs": [
    {
     "name": "stdout",
     "output_type": "stream",
     "text": [
      "10\n",
      "20\n",
      "[[[0.8956485  0.9797235  0.97484554 0.90427619 0.90427619 0.07480641]\n",
      "  [1.         0.96820276 0.84642542 0.78775991 0.78775991 0.13078494]\n",
      "  [0.91170258 1.         1.         1.         1.         0.12082137]\n",
      "  [0.85382341 0.83041475 0.8729038  0.83130639 0.83130639 0.05121367]\n",
      "  [0.81833545 0.75898618 0.73521624 0.79756767 0.79756767 0.10387914]\n",
      "  [0.58850866 0.69447005 0.66460724 0.73950569 0.73950569 0.11022446]\n",
      "  [0.51880017 0.46866359 0.548985   0.55158886 0.55158886 0.        ]\n",
      "  [0.35614702 0.41474654 0.37555163 0.50137309 0.50137309 0.09890572]\n",
      "  [0.18462188 0.28248848 0.23521624 0.36327972 0.36327972 0.11017902]\n",
      "  [0.34009294 0.21612903 0.16372462 0.12279325 0.12279325 0.21608493]]\n",
      "\n",
      " [[1.         0.96820276 0.84642542 0.78775991 0.78775991 0.13078494]\n",
      "  [0.91170258 1.         1.         1.         1.         0.12082137]\n",
      "  [0.85382341 0.83041475 0.8729038  0.83130639 0.83130639 0.05121367]\n",
      "  [0.81833545 0.75898618 0.73521624 0.79756767 0.79756767 0.10387914]\n",
      "  [0.58850866 0.69447005 0.66460724 0.73950569 0.73950569 0.11022446]\n",
      "  [0.51880017 0.46866359 0.548985   0.55158886 0.55158886 0.        ]\n",
      "  [0.35614702 0.41474654 0.37555163 0.50137309 0.50137309 0.09890572]\n",
      "  [0.18462188 0.28248848 0.23521624 0.36327972 0.36327972 0.11017902]\n",
      "  [0.34009294 0.21612903 0.16372462 0.12279325 0.12279325 0.21608493]\n",
      "  [0.29446557 0.20092166 0.25419241 0.25931738 0.25931738 0.05932937]]]\n"
     ]
    }
   ],
   "source": [
    "def create_dataset(data: np.ndarray, time_step: int=10):\n",
    "    X = []\n",
    "    for i in range(len(data) - time_step):\n",
    "        # Define the range of input sequences\n",
    "        end_ix = i + time_step\n",
    "        \n",
    "        # Ensure that the dataset is within bounds\n",
    "        if end_ix > len(data)-1:\n",
    "            break\n",
    "            \n",
    "        # Extract input and output parts of the pattern\n",
    "        seq_x = data[i:end_ix]\n",
    "        \n",
    "        # Append the parts\n",
    "        X.append(seq_x)\n",
    "    return np.array(X), data.shape[1], time_step\n",
    "\n",
    "X, feature_number, time_step = create_dataset(data=scaled_data)\n",
    "print(len(X))\n",
    "print(len(df))\n",
    "print(X[:2])"
   ]
  },
  {
   "cell_type": "code",
   "execution_count": null,
   "metadata": {},
   "outputs": [],
   "source": [
    "predicted_data = model.predict(X)\n",
    "print(predicted_data)"
   ]
  },
  {
   "cell_type": "code",
   "execution_count": 11,
   "metadata": {},
   "outputs": [
    {
     "name": "stdout",
     "output_type": "stream",
     "text": [
      "20\n",
      "                           Close  Predicted_close\n",
      "2024-07-14 00:00:00          NaN     239.00000000\n",
      "2024-06-27 00:00:00 214.10000000     230.00000000\n",
      "2024-06-26 00:00:00 213.25000000     231.00000000\n",
      "2024-06-25 00:00:00 209.07000000     232.00000000\n",
      "2024-06-24 00:00:00 208.14000000     233.00000000\n",
      "2024-06-21 00:00:00 207.49000000     234.00000000\n",
      "2024-06-20 00:00:00 209.68000000     235.00000000\n",
      "2024-06-18 00:00:00 214.29000000     236.00000000\n",
      "2024-06-17 00:00:00 216.67000000     237.00000000\n",
      "2024-06-14 00:00:00 212.49000000     238.00000000\n",
      "2024-06-13 00:00:00 214.24000000     239.00000000\n"
     ]
    }
   ],
   "source": [
    "df = df.head(20)\n",
    "print(len(df)) # 20\n",
    "# Predicted data (replace with your actual predictions)\n",
    "predicted_data = np.array([230.0, 231.0, 232.0, 233.0, 234.0, 235.0, 236.0, 237.0, 238.0, 239.0])\n",
    "\n",
    "# Create the new DataFrame\n",
    "new_df = df[['Close']].iloc[10:20].copy()\n",
    "new_df['Predicted_close'] = predicted_data\n",
    "\n",
    "last_prediction = pd.DataFrame({'Close': [np.nan], 'Predicted_close': [predicted_data[-1]]}, index=[f\"{today} 00:00:00\"])\n",
    "new_df = pd.concat([last_prediction, new_df])\n",
    "\n",
    "print(new_df)\n",
    "\n",
    "#ORDER ??"
   ]
  }
 ],
 "metadata": {
  "kernelspec": {
   "display_name": "stockprice",
   "language": "python",
   "name": "python3"
  },
  "language_info": {
   "codemirror_mode": {
    "name": "ipython",
    "version": 3
   },
   "file_extension": ".py",
   "mimetype": "text/x-python",
   "name": "python",
   "nbconvert_exporter": "python",
   "pygments_lexer": "ipython3",
   "version": "3.10.14"
  }
 },
 "nbformat": 4,
 "nbformat_minor": 2
}
