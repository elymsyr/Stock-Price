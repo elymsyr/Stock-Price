{
 "cells": [
  {
   "cell_type": "code",
   "execution_count": 1,
   "metadata": {},
   "outputs": [],
   "source": [
    "import numpy as np\n",
    "import matplotlib.pyplot as plt\n",
    "import pandas as pd\n",
    "from sklearn.preprocessing import MinMaxScaler\n",
    "from keras.models import load_model # type: ignore\n",
    "import joblib\n",
    "from stock_price_api import *"
   ]
  },
  {
   "cell_type": "code",
   "execution_count": 2,
   "metadata": {},
   "outputs": [],
   "source": [
    "model = load_model('lstm_model_test.keras', compile=False)\n",
    "model.compile(optimizer='adam', loss='mse', metrics=['mae'])\n",
    "scaler = joblib.load('scaler.gz')"
   ]
  },
  {
   "cell_type": "code",
   "execution_count": 3,
   "metadata": {},
   "outputs": [
    {
     "name": "stdout",
     "output_type": "stream",
     "text": [
      "2024-04-06 2024-07-15\n"
     ]
    },
    {
     "data": {
      "text/html": [
       "<pre style=\"white-space:pre;overflow-x:auto;line-height:normal;font-family:Menlo,'DejaVu Sans Mono',consolas,'Courier New',monospace\"><span style=\"color: #7fbfbf; text-decoration-color: #7fbfbf\">[10:45:37] </span><span style=\"color: #800080; text-decoration-color: #800080; font-weight: bold\">HTTPSConnectionPool</span><span style=\"font-weight: bold\">(</span><span style=\"color: #808000; text-decoration-color: #808000\">host</span>=<span style=\"color: #008000; text-decoration-color: #008000\">'eodhd.com'</span>, <span style=\"color: #808000; text-decoration-color: #808000\">port</span>=<span style=\"color: #008080; text-decoration-color: #008080; font-weight: bold\">443</span><span style=\"font-weight: bold\">)</span>: Max retries exceeded with url:            <a href=\"file://c:\\Users\\orhun\\.conda\\envs\\stockprice\\lib\\site-packages\\eodhd\\APIs\\BaseAPI.py\" target=\"_blank\"><span style=\"color: #7f7f7f; text-decoration-color: #7f7f7f\">BaseAPI.py</span></a><span style=\"color: #7f7f7f; text-decoration-color: #7f7f7f\">:</span><a href=\"file://c:\\Users\\orhun\\.conda\\envs\\stockprice\\lib\\site-packages\\eodhd\\APIs\\BaseAPI.py#50\" target=\"_blank\"><span style=\"color: #7f7f7f; text-decoration-color: #7f7f7f\">50</span></a>\n",
       "<span style=\"color: #7fbfbf; text-decoration-color: #7fbfbf\">           </span><span style=\"color: #800080; text-decoration-color: #800080\">/api/eod/</span><span style=\"color: #ff00ff; text-decoration-color: #ff00ff\">AAPL.US</span>?<span style=\"color: #808000; text-decoration-color: #808000\">api_token</span>=<span style=\"color: #800080; text-decoration-color: #800080\">6692ff520ca5b8</span>.<span style=\"color: #008080; text-decoration-color: #008080; font-weight: bold\">24552354</span>&amp;<span style=\"color: #808000; text-decoration-color: #808000\">fmt</span>=<span style=\"color: #800080; text-decoration-color: #800080\">json</span>&amp;<span style=\"color: #808000; text-decoration-color: #808000\">period</span>=<span style=\"color: #800080; text-decoration-color: #800080\">d</span>&amp;<span style=\"color: #808000; text-decoration-color: #808000\">from</span>=<span style=\"color: #008080; text-decoration-color: #008080; font-weight: bold\">2024</span>-<span style=\"color: #008080; text-decoration-color: #008080; font-weight: bold\">04</span>-<span style=\"color: #008080; text-decoration-color: #008080; font-weight: bold\">06</span>&amp;<span style=\"color: #808000; text-decoration-color: #808000\">to</span>=<span style=\"color: #008080; text-decoration-color: #008080; font-weight: bold\">20</span> <span style=\"color: #7f7f7f; text-decoration-color: #7f7f7f\">             </span>\n",
       "<span style=\"color: #7fbfbf; text-decoration-color: #7fbfbf\">           </span><span style=\"color: #008080; text-decoration-color: #008080; font-weight: bold\">24</span>-<span style=\"color: #008080; text-decoration-color: #008080; font-weight: bold\">07</span>-<span style=\"color: #008080; text-decoration-color: #008080; font-weight: bold\">15</span>&amp;<span style=\"color: #808000; text-decoration-color: #808000\">order</span>=<span style=\"color: #800080; text-decoration-color: #800080\">a</span> <span style=\"font-weight: bold\">(</span>Caused by <span style=\"color: #800080; text-decoration-color: #800080; font-weight: bold\">NameResolutionError</span><span style=\"font-weight: bold\">(</span><span style=\"color: #008000; text-decoration-color: #008000\">\"&lt;urllib3.connection.HTTPSConnection </span>      <span style=\"color: #7f7f7f; text-decoration-color: #7f7f7f\">             </span>\n",
       "<span style=\"color: #7fbfbf; text-decoration-color: #7fbfbf\">           </span><span style=\"color: #008000; text-decoration-color: #008000\">object at 0x00000243FEB594E0&gt;: Failed to resolve 'eodhd.com' ([Errno 11001] getaddrinfo </span>   <span style=\"color: #7f7f7f; text-decoration-color: #7f7f7f\">             </span>\n",
       "<span style=\"color: #7fbfbf; text-decoration-color: #7fbfbf\">           </span><span style=\"color: #008000; text-decoration-color: #008000\">failed)\"</span><span style=\"font-weight: bold\">))</span>                                                                                 <span style=\"color: #7f7f7f; text-decoration-color: #7f7f7f\">             </span>\n",
       "</pre>\n"
      ],
      "text/plain": [
       "\u001b[2;36m[10:45:37]\u001b[0m\u001b[2;36m \u001b[0m\u001b[1;35mHTTPSConnectionPool\u001b[0m\u001b[1m(\u001b[0m\u001b[33mhost\u001b[0m=\u001b[32m'eodhd.com'\u001b[0m, \u001b[33mport\u001b[0m=\u001b[1;36m443\u001b[0m\u001b[1m)\u001b[0m: Max retries exceeded with url:            \u001b]8;id=788982;file://c:\\Users\\orhun\\.conda\\envs\\stockprice\\lib\\site-packages\\eodhd\\APIs\\BaseAPI.py\u001b\\\u001b[2mBaseAPI.py\u001b[0m\u001b]8;;\u001b\\\u001b[2m:\u001b[0m\u001b]8;id=331411;file://c:\\Users\\orhun\\.conda\\envs\\stockprice\\lib\\site-packages\\eodhd\\APIs\\BaseAPI.py#50\u001b\\\u001b[2m50\u001b[0m\u001b]8;;\u001b\\\n",
       "\u001b[2;36m           \u001b[0m\u001b[35m/api/eod/\u001b[0m\u001b[95mAAPL.US\u001b[0m?\u001b[33mapi_token\u001b[0m=\u001b[35m6692ff520ca5b8\u001b[0m.\u001b[1;36m24552354\u001b[0m&\u001b[33mfmt\u001b[0m=\u001b[35mjson\u001b[0m&\u001b[33mperiod\u001b[0m=\u001b[35md\u001b[0m&\u001b[33mfrom\u001b[0m=\u001b[1;36m2024\u001b[0m-\u001b[1;36m04\u001b[0m-\u001b[1;36m06\u001b[0m&\u001b[33mto\u001b[0m=\u001b[1;36m20\u001b[0m \u001b[2m             \u001b[0m\n",
       "\u001b[2;36m           \u001b[0m\u001b[1;36m24\u001b[0m-\u001b[1;36m07\u001b[0m-\u001b[1;36m15\u001b[0m&\u001b[33morder\u001b[0m=\u001b[35ma\u001b[0m \u001b[1m(\u001b[0mCaused by \u001b[1;35mNameResolutionError\u001b[0m\u001b[1m(\u001b[0m\u001b[32m\"\u001b[0m\u001b[32m<\u001b[0m\u001b[32murllib3.connection.HTTPSConnection\u001b[0m\u001b[32m \u001b[0m      \u001b[2m             \u001b[0m\n",
       "\u001b[2;36m           \u001b[0m\u001b[32mobject at 0x00000243FEB594E0\u001b[0m\u001b[32m>\u001b[0m\u001b[32m: Failed to resolve 'eodhd.com' \u001b[0m\u001b[32m(\u001b[0m\u001b[32m[\u001b[0m\u001b[32mErrno 11001\u001b[0m\u001b[32m]\u001b[0m\u001b[32m getaddrinfo \u001b[0m   \u001b[2m             \u001b[0m\n",
       "\u001b[2;36m           \u001b[0m\u001b[32mfailed\u001b[0m\u001b[32m)\u001b[0m\u001b[32m\"\u001b[0m\u001b[1m)\u001b[0m\u001b[1m)\u001b[0m                                                                                 \u001b[2m             \u001b[0m\n"
      ]
     },
     "metadata": {},
     "output_type": "display_data"
    },
    {
     "name": "stdout",
     "output_type": "stream",
     "text": [
      "{}\n"
     ]
    },
    {
     "ename": "ValueError",
     "evalue": "Length mismatch: Expected axis has 0 elements, new values have 6 elements",
     "output_type": "error",
     "traceback": [
      "\u001b[1;31m---------------------------------------------------------------------------\u001b[0m",
      "\u001b[1;31mValueError\u001b[0m                                Traceback (most recent call last)",
      "Cell \u001b[1;32mIn[3], line 2\u001b[0m\n\u001b[0;32m      1\u001b[0m data_dict, today \u001b[38;5;241m=\u001b[39m get_data(day_before\u001b[38;5;241m=\u001b[39m\u001b[38;5;241m100\u001b[39m, order\u001b[38;5;241m=\u001b[39m\u001b[38;5;124m'\u001b[39m\u001b[38;5;124ma\u001b[39m\u001b[38;5;124m'\u001b[39m)\n\u001b[1;32m----> 2\u001b[0m df\u001b[38;5;241m=\u001b[39m \u001b[43mformat_data\u001b[49m\u001b[43m(\u001b[49m\u001b[43mdata_dict\u001b[49m\u001b[43m)\u001b[49m\n\u001b[0;32m      3\u001b[0m df \u001b[38;5;241m=\u001b[39m df\u001b[38;5;241m.\u001b[39miloc[\u001b[38;5;241m-\u001b[39m\u001b[38;5;241m20\u001b[39m:]\n\u001b[0;32m      4\u001b[0m \u001b[38;5;28mprint\u001b[39m(\u001b[38;5;28mlen\u001b[39m(df), df)\n",
      "File \u001b[1;32mc:\\Users\\orhun\\OneDrive\\Belgeler\\GitHub\\Stock-Price\\Models\\Test\\stock_price_api.py:31\u001b[0m, in \u001b[0;36mformat_data\u001b[1;34m(data)\u001b[0m\n\u001b[0;32m     29\u001b[0m \u001b[38;5;28;01mdef\u001b[39;00m \u001b[38;5;21mformat_data\u001b[39m(data:\u001b[38;5;28mdict\u001b[39m):\n\u001b[0;32m     30\u001b[0m     df \u001b[38;5;241m=\u001b[39m pd\u001b[38;5;241m.\u001b[39mDataFrame\u001b[38;5;241m.\u001b[39mfrom_dict(data, orient\u001b[38;5;241m=\u001b[39m\u001b[38;5;124m'\u001b[39m\u001b[38;5;124mindex\u001b[39m\u001b[38;5;124m'\u001b[39m)\n\u001b[1;32m---> 31\u001b[0m     \u001b[43mdf\u001b[49m\u001b[38;5;241;43m.\u001b[39;49m\u001b[43mcolumns\u001b[49m \u001b[38;5;241m=\u001b[39m [\u001b[38;5;124m'\u001b[39m\u001b[38;5;124mOpen\u001b[39m\u001b[38;5;124m'\u001b[39m, \u001b[38;5;124m'\u001b[39m\u001b[38;5;124mHigh\u001b[39m\u001b[38;5;124m'\u001b[39m, \u001b[38;5;124m'\u001b[39m\u001b[38;5;124mLow\u001b[39m\u001b[38;5;124m'\u001b[39m, \u001b[38;5;124m'\u001b[39m\u001b[38;5;124mClose\u001b[39m\u001b[38;5;124m'\u001b[39m, \u001b[38;5;124m'\u001b[39m\u001b[38;5;124mAdj Close\u001b[39m\u001b[38;5;124m'\u001b[39m, \u001b[38;5;124m'\u001b[39m\u001b[38;5;124mVolume\u001b[39m\u001b[38;5;124m'\u001b[39m]\n\u001b[0;32m     32\u001b[0m     df\u001b[38;5;241m.\u001b[39mindex \u001b[38;5;241m=\u001b[39m pd\u001b[38;5;241m.\u001b[39mto_datetime(df\u001b[38;5;241m.\u001b[39mindex)\n\u001b[0;32m     33\u001b[0m     \u001b[38;5;28;01mreturn\u001b[39;00m df\n",
      "File \u001b[1;32mc:\\Users\\orhun\\.conda\\envs\\stockprice\\lib\\site-packages\\pandas\\core\\generic.py:6313\u001b[0m, in \u001b[0;36mNDFrame.__setattr__\u001b[1;34m(self, name, value)\u001b[0m\n\u001b[0;32m   6311\u001b[0m \u001b[38;5;28;01mtry\u001b[39;00m:\n\u001b[0;32m   6312\u001b[0m     \u001b[38;5;28mobject\u001b[39m\u001b[38;5;241m.\u001b[39m\u001b[38;5;21m__getattribute__\u001b[39m(\u001b[38;5;28mself\u001b[39m, name)\n\u001b[1;32m-> 6313\u001b[0m     \u001b[38;5;28;01mreturn\u001b[39;00m \u001b[38;5;28;43mobject\u001b[39;49m\u001b[38;5;241;43m.\u001b[39;49m\u001b[38;5;21;43m__setattr__\u001b[39;49m\u001b[43m(\u001b[49m\u001b[38;5;28;43mself\u001b[39;49m\u001b[43m,\u001b[49m\u001b[43m \u001b[49m\u001b[43mname\u001b[49m\u001b[43m,\u001b[49m\u001b[43m \u001b[49m\u001b[43mvalue\u001b[49m\u001b[43m)\u001b[49m\n\u001b[0;32m   6314\u001b[0m \u001b[38;5;28;01mexcept\u001b[39;00m \u001b[38;5;167;01mAttributeError\u001b[39;00m:\n\u001b[0;32m   6315\u001b[0m     \u001b[38;5;28;01mpass\u001b[39;00m\n",
      "File \u001b[1;32mproperties.pyx:69\u001b[0m, in \u001b[0;36mpandas._libs.properties.AxisProperty.__set__\u001b[1;34m()\u001b[0m\n",
      "File \u001b[1;32mc:\\Users\\orhun\\.conda\\envs\\stockprice\\lib\\site-packages\\pandas\\core\\generic.py:814\u001b[0m, in \u001b[0;36mNDFrame._set_axis\u001b[1;34m(self, axis, labels)\u001b[0m\n\u001b[0;32m    809\u001b[0m \u001b[38;5;250m\u001b[39m\u001b[38;5;124;03m\"\"\"\u001b[39;00m\n\u001b[0;32m    810\u001b[0m \u001b[38;5;124;03mThis is called from the cython code when we set the `index` attribute\u001b[39;00m\n\u001b[0;32m    811\u001b[0m \u001b[38;5;124;03mdirectly, e.g. `series.index = [1, 2, 3]`.\u001b[39;00m\n\u001b[0;32m    812\u001b[0m \u001b[38;5;124;03m\"\"\"\u001b[39;00m\n\u001b[0;32m    813\u001b[0m labels \u001b[38;5;241m=\u001b[39m ensure_index(labels)\n\u001b[1;32m--> 814\u001b[0m \u001b[38;5;28;43mself\u001b[39;49m\u001b[38;5;241;43m.\u001b[39;49m\u001b[43m_mgr\u001b[49m\u001b[38;5;241;43m.\u001b[39;49m\u001b[43mset_axis\u001b[49m\u001b[43m(\u001b[49m\u001b[43maxis\u001b[49m\u001b[43m,\u001b[49m\u001b[43m \u001b[49m\u001b[43mlabels\u001b[49m\u001b[43m)\u001b[49m\n\u001b[0;32m    815\u001b[0m \u001b[38;5;28mself\u001b[39m\u001b[38;5;241m.\u001b[39m_clear_item_cache()\n",
      "File \u001b[1;32mc:\\Users\\orhun\\.conda\\envs\\stockprice\\lib\\site-packages\\pandas\\core\\internals\\managers.py:238\u001b[0m, in \u001b[0;36mBaseBlockManager.set_axis\u001b[1;34m(self, axis, new_labels)\u001b[0m\n\u001b[0;32m    236\u001b[0m \u001b[38;5;28;01mdef\u001b[39;00m \u001b[38;5;21mset_axis\u001b[39m(\u001b[38;5;28mself\u001b[39m, axis: AxisInt, new_labels: Index) \u001b[38;5;241m-\u001b[39m\u001b[38;5;241m>\u001b[39m \u001b[38;5;28;01mNone\u001b[39;00m:\n\u001b[0;32m    237\u001b[0m     \u001b[38;5;66;03m# Caller is responsible for ensuring we have an Index object.\u001b[39;00m\n\u001b[1;32m--> 238\u001b[0m     \u001b[38;5;28;43mself\u001b[39;49m\u001b[38;5;241;43m.\u001b[39;49m\u001b[43m_validate_set_axis\u001b[49m\u001b[43m(\u001b[49m\u001b[43maxis\u001b[49m\u001b[43m,\u001b[49m\u001b[43m \u001b[49m\u001b[43mnew_labels\u001b[49m\u001b[43m)\u001b[49m\n\u001b[0;32m    239\u001b[0m     \u001b[38;5;28mself\u001b[39m\u001b[38;5;241m.\u001b[39maxes[axis] \u001b[38;5;241m=\u001b[39m new_labels\n",
      "File \u001b[1;32mc:\\Users\\orhun\\.conda\\envs\\stockprice\\lib\\site-packages\\pandas\\core\\internals\\base.py:98\u001b[0m, in \u001b[0;36mDataManager._validate_set_axis\u001b[1;34m(self, axis, new_labels)\u001b[0m\n\u001b[0;32m     95\u001b[0m     \u001b[38;5;28;01mpass\u001b[39;00m\n\u001b[0;32m     97\u001b[0m \u001b[38;5;28;01melif\u001b[39;00m new_len \u001b[38;5;241m!=\u001b[39m old_len:\n\u001b[1;32m---> 98\u001b[0m     \u001b[38;5;28;01mraise\u001b[39;00m \u001b[38;5;167;01mValueError\u001b[39;00m(\n\u001b[0;32m     99\u001b[0m         \u001b[38;5;124mf\u001b[39m\u001b[38;5;124m\"\u001b[39m\u001b[38;5;124mLength mismatch: Expected axis has \u001b[39m\u001b[38;5;132;01m{\u001b[39;00mold_len\u001b[38;5;132;01m}\u001b[39;00m\u001b[38;5;124m elements, new \u001b[39m\u001b[38;5;124m\"\u001b[39m\n\u001b[0;32m    100\u001b[0m         \u001b[38;5;124mf\u001b[39m\u001b[38;5;124m\"\u001b[39m\u001b[38;5;124mvalues have \u001b[39m\u001b[38;5;132;01m{\u001b[39;00mnew_len\u001b[38;5;132;01m}\u001b[39;00m\u001b[38;5;124m elements\u001b[39m\u001b[38;5;124m\"\u001b[39m\n\u001b[0;32m    101\u001b[0m     )\n",
      "\u001b[1;31mValueError\u001b[0m: Length mismatch: Expected axis has 0 elements, new values have 6 elements"
     ]
    }
   ],
   "source": [
    "data_dict, today = get_data(day_before=100, order='a')\n",
    "df= format_data(data_dict)\n",
    "df = df.iloc[-20:]\n",
    "print(len(df), df)"
   ]
  },
  {
   "cell_type": "code",
   "execution_count": null,
   "metadata": {},
   "outputs": [],
   "source": [
    "def get_scaled_data(df, scaler: MinMaxScaler, data_size:int=500, path:str=r\"..\\Data\\AAPL_stock_prices.csv\", delimeter: str = ',', from_end: bool = True, date_column: str = 'Date', target_column: str = 'Close'):\n",
    "    target_column_index = df.columns.tolist().index(target_column)\n",
    "    scaled_data = scaler.fit_transform(df)\n",
    "    return scaled_data, target_column_index"
   ]
  },
  {
   "cell_type": "code",
   "execution_count": null,
   "metadata": {},
   "outputs": [],
   "source": [
    "scaled_data, target_column_index = get_scaled_data(df=df, scaler=scaler)"
   ]
  },
  {
   "cell_type": "code",
   "execution_count": null,
   "metadata": {},
   "outputs": [
    {
     "name": "stdout",
     "output_type": "stream",
     "text": [
      "10\n",
      "20\n",
      "[[[0.29657795 0.24746544 0.22109444 0.26480973 0.26480973 0.28936827]\n",
      "  [0.25897761 0.17465438 0.20785525 0.19615536 0.19615536 0.15667376]\n",
      "  [0.23869877 0.34884793 0.27052074 0.36014123 0.36014123 0.26959134]\n",
      "  [0.41698352 0.33410138 0.28287732 0.26677128 0.26677128 0.20365068]\n",
      "  [0.26235741 0.13179724 0.09973522 0.08591605 0.08591605 0.23344811]\n",
      "  [0.11280101 0.0235023  0.02294793 0.         0.         1.        ]\n",
      "  [0.         0.06082949 0.         0.0255002  0.0255002  0.20739951]\n",
      "  [0.06041403 0.         0.08914387 0.06198509 0.06198509 0.09253266]\n",
      "  [0.15969582 0.16036866 0.17872904 0.22597097 0.22597097 0.13797263]\n",
      "  [0.29446557 0.20092166 0.25419241 0.25931738 0.25931738 0.05932937]]]\n"
     ]
    }
   ],
   "source": [
    "def create_dataset(data: np.ndarray, time_step: int=10):\n",
    "    X = []\n",
    "    for i in range(len(data) - time_step):\n",
    "        # Define the range of input sequences\n",
    "        end_ix = i + time_step\n",
    "        \n",
    "        # Ensure that the dataset is within bounds\n",
    "        if end_ix > len(data)-1:\n",
    "            break\n",
    "            \n",
    "        # Extract input and output parts of the pattern\n",
    "        seq_x = data[i:end_ix]\n",
    "        \n",
    "        # Append the parts\n",
    "        X.append(seq_x)\n",
    "    return np.array(X), data.shape[1], time_step\n",
    "\n",
    "X, feature_number, time_step = create_dataset(data=scaled_data)\n",
    "print(len(X))\n",
    "print(len(df))\n",
    "print(X[:1])"
   ]
  },
  {
   "cell_type": "code",
   "execution_count": null,
   "metadata": {},
   "outputs": [
    {
     "name": "stdout",
     "output_type": "stream",
     "text": [
      "\u001b[1m1/1\u001b[0m \u001b[32m━━━━━━━━━━━━━━━━━━━━\u001b[0m\u001b[37m\u001b[0m \u001b[1m0s\u001b[0m 419ms/step\n",
      "[[0.2179317 ]\n",
      " [0.15120791]\n",
      " [0.2784645 ]\n",
      " [0.37193528]\n",
      " [0.41500375]\n",
      " [0.56170124]\n",
      " [0.60204506]\n",
      " [0.65783656]\n",
      " [0.78502846]\n",
      " [0.64124304]]\n"
     ]
    }
   ],
   "source": [
    "predicted_data = model.predict(X)\n",
    "print(predicted_data)"
   ]
  },
  {
   "cell_type": "code",
   "execution_count": null,
   "metadata": {},
   "outputs": [],
   "source": [
    "# Inverse transform the predictions\n",
    "def update_data_to_inverse(predicted_data: np.ndarray, scaler: MinMaxScaler, target_column_index: int, feature_number: int):\n",
    "    new_dataset = np.zeros(shape=(len(predicted_data), feature_number))\n",
    "    new_dataset[:,target_column_index] = predicted_data.flatten()\n",
    "    return scaler.inverse_transform(new_dataset)[:, target_column_index].reshape(-1, 1)"
   ]
  },
  {
   "cell_type": "code",
   "execution_count": null,
   "metadata": {},
   "outputs": [],
   "source": [
    "predicted_data = update_data_to_inverse(predicted_data=predicted_data, scaler=scaler, target_column_index=target_column_index, feature_number=feature_number)"
   ]
  },
  {
   "cell_type": "code",
   "execution_count": null,
   "metadata": {},
   "outputs": [
    {
     "name": "stdout",
     "output_type": "stream",
     "text": [
      "             Close  Predicted_close  Desired_prediction\n",
      "06-28 210.62000000     213.04507910                 NaN\n",
      "07-01 216.75000000     211.34428960                 NaN\n",
      "07-02 220.27000000     214.58806001                 NaN\n",
      "07-03 221.55000000     216.97063024                 NaN\n",
      "07-05 226.34000000     218.06844550                 NaN\n",
      "07-08 227.82000000     221.80776456                 NaN\n",
      "07-09 228.68000000     222.83612856                 NaN\n",
      "07-10 232.98000000     224.25825382                 NaN\n",
      "07-11 227.57000000     227.50037539                 NaN\n",
      "07-12 230.54000000     223.83528510        230.54000000\n",
      "07-13          NaN     223.83528510        223.83528510\n"
     ]
    },
    {
     "name": "stderr",
     "output_type": "stream",
     "text": [
      "C:\\Users\\orhun\\AppData\\Local\\Temp\\ipykernel_15136\\3765866443.py:8: FutureWarning: Series.__getitem__ treating keys as positions is deprecated. In a future version, integer keys will always be treated as labels (consistent with DataFrame behavior). To access a value by position, use `ser.iloc[pos]`\n",
      "  desired_prediction[-2] = new_df['Close'][-2]\n",
      "C:\\Users\\orhun\\AppData\\Local\\Temp\\ipykernel_15136\\3765866443.py:9: FutureWarning: Series.__getitem__ treating keys as positions is deprecated. In a future version, integer keys will always be treated as labels (consistent with DataFrame behavior). To access a value by position, use `ser.iloc[pos]`\n",
      "  desired_prediction[-1] = new_df['Predicted_close'][-1]\n"
     ]
    }
   ],
   "source": [
    "new_df = df[['Close']].iloc[-10:].copy()\n",
    "new_df['Predicted_close'] = predicted_data\n",
    "\n",
    "next_day = df.index.max() + pd.DateOffset(days=1)\n",
    "last_prediction = pd.DataFrame({'Close': [np.nan], 'Predicted_close': predicted_data[-1]}, index=[f\"{next_day} 00:00:00\"])\n",
    "desired_prediction = np.full((11,1), np.nan)\n",
    "new_df = pd.concat([new_df, last_prediction])\n",
    "desired_prediction[-2] = new_df['Close'][-2]\n",
    "desired_prediction[-1] = new_df['Predicted_close'][-1]\n",
    "desired_prediction = desired_prediction.reshape(-1,1)\n",
    "new_df['Desired_prediction'] = desired_prediction\n",
    "\n",
    "\n",
    "# Ensure the index is in datetime format\n",
    "new_df.index = pd.to_datetime(new_df.index)\n",
    "\n",
    "# Convert the datetime index to 'day-month' format\n",
    "new_df.index = new_df.index.strftime('%m-%d')\n",
    "\n",
    "print(new_df)\n",
    "\n",
    "#ORDER ??"
   ]
  },
  {
   "cell_type": "code",
   "execution_count": 4,
   "metadata": {},
   "outputs": [
    {
     "ename": "NameError",
     "evalue": "name 'new_df' is not defined",
     "output_type": "error",
     "traceback": [
      "\u001b[1;31m---------------------------------------------------------------------------\u001b[0m",
      "\u001b[1;31mNameError\u001b[0m                                 Traceback (most recent call last)",
      "Cell \u001b[1;32mIn[4], line 1\u001b[0m\n\u001b[1;32m----> 1\u001b[0m plt\u001b[38;5;241m.\u001b[39mplot(\u001b[43mnew_df\u001b[49m[\u001b[38;5;124m'\u001b[39m\u001b[38;5;124mClose\u001b[39m\u001b[38;5;124m'\u001b[39m], label\u001b[38;5;241m=\u001b[39m\u001b[38;5;124m'\u001b[39m\u001b[38;5;124mClose\u001b[39m\u001b[38;5;124m'\u001b[39m)\n\u001b[0;32m      2\u001b[0m plt\u001b[38;5;241m.\u001b[39mplot(new_df[\u001b[38;5;124m'\u001b[39m\u001b[38;5;124mPredicted_close\u001b[39m\u001b[38;5;124m'\u001b[39m], label\u001b[38;5;241m=\u001b[39m\u001b[38;5;124m'\u001b[39m\u001b[38;5;124mPredicted Close\u001b[39m\u001b[38;5;124m'\u001b[39m)\n\u001b[0;32m      3\u001b[0m plt\u001b[38;5;241m.\u001b[39mplot(new_df[\u001b[38;5;124m'\u001b[39m\u001b[38;5;124mDesired_prediction\u001b[39m\u001b[38;5;124m'\u001b[39m], label\u001b[38;5;241m=\u001b[39m\u001b[38;5;124m'\u001b[39m\u001b[38;5;124mDesired Prediction\u001b[39m\u001b[38;5;124m'\u001b[39m)\n",
      "\u001b[1;31mNameError\u001b[0m: name 'new_df' is not defined"
     ]
    }
   ],
   "source": [
    "plt.plot(new_df['Close'], label='Close')\n",
    "plt.plot(new_df['Predicted_close'], label='Predicted Close')\n",
    "plt.plot(new_df['Desired_prediction'], label='Desired Prediction')\n",
    "plt.title('Predictons')\n",
    "plt.ylabel('Prices')\n",
    "plt.xlabel('Date')\n",
    "plt.legend()\n",
    "plt.show()"
   ]
  }
 ],
 "metadata": {
  "kernelspec": {
   "display_name": "stockprice",
   "language": "python",
   "name": "python3"
  },
  "language_info": {
   "codemirror_mode": {
    "name": "ipython",
    "version": 3
   },
   "file_extension": ".py",
   "mimetype": "text/x-python",
   "name": "python",
   "nbconvert_exporter": "python",
   "pygments_lexer": "ipython3",
   "version": "3.10.14"
  }
 },
 "nbformat": 4,
 "nbformat_minor": 2
}
