{
 "cells": [
  {
   "cell_type": "code",
   "execution_count": 1,
   "metadata": {},
   "outputs": [],
   "source": [
    "import numpy as np\n",
    "import matplotlib.pyplot as plt\n",
    "import pandas as pd\n",
    "from sklearn.preprocessing import MinMaxScaler\n",
    "from keras.models import load_model # type: ignore\n",
    "import joblib\n",
    "from eodhd import APIClient\n",
    "from datetime import datetime, timedelta\n",
    "from datetime import datetime\n",
    "API =  \"6692ff520ca5b8.24552354\" # eodhd"
   ]
  },
  {
   "cell_type": "code",
   "execution_count": 2,
   "metadata": {},
   "outputs": [],
   "source": [
    "def get_data(stock: str = 'AAPL', symbol: str = 'US', period: str = 'd', from_date = None, to_date = None, day_before: int = 20, order='a'):\n",
    "    current_date = datetime.now()\n",
    "    formatted_current_date = current_date.strftime('%Y-%m-%d')\n",
    "    date_10_days_before = current_date - timedelta(days=day_before)\n",
    "    formatted_date_10_days_before = date_10_days_before.strftime('%Y-%m-%d')\n",
    "    if from_date is None: from_date = formatted_date_10_days_before\n",
    "    if to_date is None: to_date = formatted_current_date\n",
    "    \n",
    "    print(from_date, to_date)\n",
    "    \n",
    "    api = APIClient(API)\n",
    "\n",
    "    resp = api.get_eod_historical_stock_market_data(symbol = f'{stock}.{symbol}', period=period, from_date = from_date, to_date = to_date, order=order)\n",
    "\n",
    "    data_dict = {}\n",
    "\n",
    "    for item in resp:\n",
    "        data_dict[item.pop('date')] = item\n",
    "\n",
    "    print(data_dict)\n",
    "    return data_dict\n",
    "\n",
    "def format_data(data:dict):\n",
    "    df = pd.DataFrame.from_dict(data, orient='index')\n",
    "    df.columns = ['Open', 'High', 'Low', 'Close', 'Adj Close', 'Volume']\n",
    "    df.index = pd.to_datetime(df.index)\n",
    "    df = df.sort_index()\n",
    "    return df"
   ]
  },
  {
   "cell_type": "code",
   "execution_count": 3,
   "metadata": {},
   "outputs": [],
   "source": [
    "model = load_model('lstm_model_test.keras', compile=False)\n",
    "model.compile(optimizer='adam', loss='mse', metrics=['mae'])\n",
    "scaler = joblib.load('scaler.gz')"
   ]
  },
  {
   "cell_type": "code",
   "execution_count": 4,
   "metadata": {},
   "outputs": [
    {
     "name": "stdout",
     "output_type": "stream",
     "text": [
      "2024-04-08 2024-07-17\n",
      "{'2024-04-08': {'open': 169.03, 'high': 169.2, 'low': 168.24, 'close': 168.45, 'adjusted_close': 168.2218, 'volume': 37425500}, '2024-04-09': {'open': 168.7, 'high': 170.08, 'low': 168.35, 'close': 169.67, 'adjusted_close': 169.4402, 'volume': 42451200}, '2024-04-10': {'open': 168.8, 'high': 169.09, 'low': 167.11, 'close': 167.78, 'adjusted_close': 167.5527, 'volume': 49709300}, '2024-04-11': {'open': 168.34, 'high': 175.46, 'low': 168.16, 'close': 175.04, 'adjusted_close': 174.8029, 'volume': 91070300}, '2024-04-12': {'open': 174.26, 'high': 178.36, 'low': 174.21, 'close': 176.55, 'adjusted_close': 176.3109, 'volume': 101593300}, '2024-04-15': {'open': 175.36, 'high': 176.63, 'low': 172.5, 'close': 172.69, 'adjusted_close': 172.4561, 'volume': 73531800}, '2024-04-16': {'open': 171.75, 'high': 173.76, 'low': 168.27, 'close': 169.38, 'adjusted_close': 169.1506, 'volume': 73711200}, '2024-04-17': {'open': 169.61, 'high': 170.65, 'low': 168, 'close': 168, 'adjusted_close': 167.7724, 'volume': 50901200}, '2024-04-18': {'open': 168.03, 'high': 168.64, 'low': 166.55, 'close': 167.04, 'adjusted_close': 166.8137, 'volume': 43122900}, '2024-04-19': {'open': 166.21, 'high': 166.4, 'low': 164.08, 'close': 165, 'adjusted_close': 164.7765, 'volume': 67772100}, '2024-04-22': {'open': 165.52, 'high': 167.26, 'low': 164.77, 'close': 165.84, 'adjusted_close': 165.6154, 'volume': 48116400}, '2024-04-23': {'open': 165.35, 'high': 167.05, 'low': 164.92, 'close': 166.9, 'adjusted_close': 166.6739, 'volume': 49537800}, '2024-04-24': {'open': 166.54, 'high': 169.3, 'low': 166.21, 'close': 169.02, 'adjusted_close': 168.7911, 'volume': 48251800}, '2024-04-25': {'open': 169.53, 'high': 170.61, 'low': 168.15, 'close': 169.89, 'adjusted_close': 169.6599, 'volume': 50558300}, '2024-04-26': {'open': 169.88, 'high': 171.34, 'low': 169.18, 'close': 169.3, 'adjusted_close': 169.0707, 'volume': 44838400}, '2024-04-29': {'open': 173.37, 'high': 176.03, 'low': 173.1, 'close': 173.5, 'adjusted_close': 173.265, 'volume': 68169400}, '2024-04-30': {'open': 173.33, 'high': 174.99, 'low': 170, 'close': 170.33, 'adjusted_close': 170.0993, 'volume': 65934800}, '2024-05-01': {'open': 169.58, 'high': 172.71, 'low': 169.11, 'close': 169.3, 'adjusted_close': 169.0707, 'volume': 50383100}, '2024-05-02': {'open': 172.51, 'high': 173.42, 'low': 170.89, 'close': 173.03, 'adjusted_close': 172.7956, 'volume': 94214900}, '2024-05-03': {'open': 186.65, 'high': 187, 'low': 182.66, 'close': 183.38, 'adjusted_close': 183.1316, 'volume': 163224100}, '2024-05-06': {'open': 182.35, 'high': 184.2, 'low': 180.42, 'close': 181.71, 'adjusted_close': 181.4639, 'volume': 78569700}, '2024-05-07': {'open': 183.45, 'high': 184.9, 'low': 181.32, 'close': 182.4, 'adjusted_close': 182.1529, 'volume': 77305800}, '2024-05-08': {'open': 182.85, 'high': 183.07, 'low': 181.45, 'close': 182.74, 'adjusted_close': 182.4925, 'volume': 45057100}, '2024-05-09': {'open': 182.56, 'high': 184.66, 'low': 182.11, 'close': 184.57, 'adjusted_close': 184.32, 'volume': 48983000}, '2024-05-10': {'open': 184.9, 'high': 185.09, 'low': 182.13, 'close': 183.05, 'adjusted_close': 183.05, 'volume': 50759500}, '2024-05-13': {'open': 185.44, 'high': 187.1, 'low': 184.62, 'close': 186.28, 'adjusted_close': 186.28, 'volume': 72044800}, '2024-05-14': {'open': 187.51, 'high': 188.3, 'low': 186.29, 'close': 187.43, 'adjusted_close': 187.43, 'volume': 52393600}, '2024-05-15': {'open': 187.91, 'high': 190.65, 'low': 187.37, 'close': 189.72, 'adjusted_close': 189.72, 'volume': 70400000}, '2024-05-16': {'open': 190.47, 'high': 191.1, 'low': 189.66, 'close': 189.84, 'adjusted_close': 189.84, 'volume': 52845200}, '2024-05-17': {'open': 189.51, 'high': 190.81, 'low': 189.18, 'close': 189.87, 'adjusted_close': 189.87, 'volume': 41282900}, '2024-05-20': {'open': 189.33, 'high': 191.92, 'low': 189.01, 'close': 191.04, 'adjusted_close': 191.04, 'volume': 44361300}, '2024-05-21': {'open': 191.09, 'high': 192.73, 'low': 190.92, 'close': 192.35, 'adjusted_close': 192.35, 'volume': 42309400}, '2024-05-22': {'open': 192.27, 'high': 192.82, 'low': 190.27, 'close': 190.9, 'adjusted_close': 190.9, 'volume': 34648500}, '2024-05-23': {'open': 190.98, 'high': 191, 'low': 186.63, 'close': 186.88, 'adjusted_close': 186.88, 'volume': 51005900}, '2024-05-24': {'open': 188.82, 'high': 190.58, 'low': 188.04, 'close': 189.98, 'adjusted_close': 189.98, 'volume': 36294600}, '2024-05-28': {'open': 191.51, 'high': 193, 'low': 189.1, 'close': 189.99, 'adjusted_close': 189.99, 'volume': 52280100}, '2024-05-29': {'open': 189.61, 'high': 192.25, 'low': 189.51, 'close': 190.29, 'adjusted_close': 190.29, 'volume': 53068000}, '2024-05-30': {'open': 190.76, 'high': 192.18, 'low': 190.63, 'close': 191.29, 'adjusted_close': 191.29, 'volume': 49947900}, '2024-05-31': {'open': 191.44, 'high': 192.57, 'low': 189.91, 'close': 192.25, 'adjusted_close': 192.25, 'volume': 75158300}, '2024-06-03': {'open': 192.9, 'high': 194.99, 'low': 192.52, 'close': 194.03, 'adjusted_close': 194.03, 'volume': 50080500}, '2024-06-04': {'open': 194.64, 'high': 195.32, 'low': 193.03, 'close': 194.35, 'adjusted_close': 194.35, 'volume': 47471400}, '2024-06-05': {'open': 195.4, 'high': 196.9, 'low': 194.87, 'close': 195.87, 'adjusted_close': 195.87, 'volume': 54156800}, '2024-06-06': {'open': 195.69, 'high': 196.5, 'low': 194.17, 'close': 194.48, 'adjusted_close': 194.48, 'volume': 41181800}, '2024-06-07': {'open': 194.65, 'high': 196.94, 'low': 194.14, 'close': 196.89, 'adjusted_close': 196.89, 'volume': 53103900}, '2024-06-10': {'open': 196.9, 'high': 197.3, 'low': 192.15, 'close': 193.12, 'adjusted_close': 193.12, 'volume': 97262100}, '2024-06-11': {'open': 193.65, 'high': 207.16, 'low': 193.63, 'close': 207.15, 'adjusted_close': 207.15, 'volume': 172373300}, '2024-06-12': {'open': 207.37, 'high': 220.2, 'low': 206.9, 'close': 213.07, 'adjusted_close': 213.07, 'volume': 198134300}, '2024-06-13': {'open': 214.74, 'high': 216.75, 'low': 211.6, 'close': 214.24, 'adjusted_close': 214.24, 'volume': 97862700}, '2024-06-14': {'open': 213.85, 'high': 215.17, 'low': 211.3, 'close': 212.49, 'adjusted_close': 212.49, 'volume': 70122700}, '2024-06-17': {'open': 213.37, 'high': 218.95, 'low': 212.72, 'close': 216.67, 'adjusted_close': 216.67, 'volume': 93728300}, '2024-06-18': {'open': 217.59, 'high': 218.63, 'low': 213, 'close': 214.29, 'adjusted_close': 214.29, 'volume': 79943300}, '2024-06-20': {'open': 213.93, 'high': 214.24, 'low': 208.85, 'close': 209.68, 'adjusted_close': 209.68, 'volume': 86172500}, '2024-06-21': {'open': 210.39, 'high': 211.89, 'low': 207.11, 'close': 207.49, 'adjusted_close': 207.49, 'volume': 246421400}, '2024-06-24': {'open': 207.72, 'high': 212.7, 'low': 206.59, 'close': 208.14, 'adjusted_close': 208.14, 'volume': 80727000}, '2024-06-25': {'open': 209.15, 'high': 211.38, 'low': 208.61, 'close': 209.07, 'adjusted_close': 209.07, 'volume': 56713900}, '2024-06-26': {'open': 211.5, 'high': 214.86, 'low': 210.64, 'close': 213.25, 'adjusted_close': 213.25, 'volume': 66213200}, '2024-06-27': {'open': 214.69, 'high': 215.74, 'low': 212.35, 'close': 214.1, 'adjusted_close': 214.1, 'volume': 49772700}, '2024-06-28': {'open': 215.77, 'high': 216.07, 'low': 210.3, 'close': 210.62, 'adjusted_close': 210.62, 'volume': 82542700}, '2024-07-01': {'open': 212.09, 'high': 217.51, 'low': 211.92, 'close': 216.75, 'adjusted_close': 216.75, 'volume': 60402900}, '2024-07-02': {'open': 216.15, 'high': 220.38, 'low': 215.1, 'close': 220.27, 'adjusted_close': 220.27, 'volume': 58046200}, '2024-07-03': {'open': 220, 'high': 221.55, 'low': 219.03, 'close': 221.55, 'adjusted_close': 221.55, 'volume': 37369800}, '2024-07-05': {'open': 221.65, 'high': 226.45, 'low': 221.65, 'close': 226.34, 'adjusted_close': 226.34, 'volume': 60412400}, '2024-07-08': {'open': 227.09, 'high': 227.85, 'low': 223.25, 'close': 227.82, 'adjusted_close': 227.82, 'volume': 59085900}, '2024-07-09': {'open': 227.93, 'high': 229.4, 'low': 226.37, 'close': 228.68, 'adjusted_close': 228.68, 'volume': 48076100}, '2024-07-10': {'open': 229.3, 'high': 233.08, 'low': 229.25, 'close': 232.98, 'adjusted_close': 232.98, 'volume': 62627700}, '2024-07-11': {'open': 231.39, 'high': 232.39, 'low': 225.77, 'close': 227.57, 'adjusted_close': 227.57, 'volume': 64710600}, '2024-07-12': {'open': 228.92, 'high': 232.64, 'low': 228.68, 'close': 230.54, 'adjusted_close': 230.54, 'volume': 53008200}, '2024-07-15': {'open': 236.48, 'high': 237.23, 'low': 233.09, 'close': 234.4, 'adjusted_close': 234.4, 'volume': 62631300}, '2024-07-16': {'open': 235.205, 'high': 236.27, 'low': 232.33, 'close': 234.82, 'adjusted_close': 234.82, 'volume': 41658047}}\n",
      "20                    Open         High          Low        Close    Adj Close  \\\n",
      "2024-06-17 213.37000000 218.95000000 212.72000000 216.67000000 216.67000000   \n",
      "2024-06-18 217.59000000 218.63000000 213.00000000 214.29000000 214.29000000   \n",
      "2024-06-20 213.93000000 214.24000000 208.85000000 209.68000000 209.68000000   \n",
      "2024-06-21 210.39000000 211.89000000 207.11000000 207.49000000 207.49000000   \n",
      "2024-06-24 207.72000000 212.70000000 206.59000000 208.14000000 208.14000000   \n",
      "2024-06-25 209.15000000 211.38000000 208.61000000 209.07000000 209.07000000   \n",
      "2024-06-26 211.50000000 214.86000000 210.64000000 213.25000000 213.25000000   \n",
      "2024-06-27 214.69000000 215.74000000 212.35000000 214.10000000 214.10000000   \n",
      "2024-06-28 215.77000000 216.07000000 210.30000000 210.62000000 210.62000000   \n",
      "2024-07-01 212.09000000 217.51000000 211.92000000 216.75000000 216.75000000   \n",
      "2024-07-02 216.15000000 220.38000000 215.10000000 220.27000000 220.27000000   \n",
      "2024-07-03 220.00000000 221.55000000 219.03000000 221.55000000 221.55000000   \n",
      "2024-07-05 221.65000000 226.45000000 221.65000000 226.34000000 226.34000000   \n",
      "2024-07-08 227.09000000 227.85000000 223.25000000 227.82000000 227.82000000   \n",
      "2024-07-09 227.93000000 229.40000000 226.37000000 228.68000000 228.68000000   \n",
      "2024-07-10 229.30000000 233.08000000 229.25000000 232.98000000 232.98000000   \n",
      "2024-07-11 231.39000000 232.39000000 225.77000000 227.57000000 227.57000000   \n",
      "2024-07-12 228.92000000 232.64000000 228.68000000 230.54000000 230.54000000   \n",
      "2024-07-15 236.48000000 237.23000000 233.09000000 234.40000000 234.40000000   \n",
      "2024-07-16 235.20500000 236.27000000 232.33000000 234.82000000 234.82000000   \n",
      "\n",
      "               Volume  \n",
      "2024-06-17   93728300  \n",
      "2024-06-18   79943300  \n",
      "2024-06-20   86172500  \n",
      "2024-06-21  246421400  \n",
      "2024-06-24   80727000  \n",
      "2024-06-25   56713900  \n",
      "2024-06-26   66213200  \n",
      "2024-06-27   49772700  \n",
      "2024-06-28   82542700  \n",
      "2024-07-01   60402900  \n",
      "2024-07-02   58046200  \n",
      "2024-07-03   37369800  \n",
      "2024-07-05   60412400  \n",
      "2024-07-08   59085900  \n",
      "2024-07-09   48076100  \n",
      "2024-07-10   62627700  \n",
      "2024-07-11   64710600  \n",
      "2024-07-12   53008200  \n",
      "2024-07-15   62631300  \n",
      "2024-07-16   41658047  \n"
     ]
    }
   ],
   "source": [
    "data_dict = get_data(day_before=100, order='a')\n",
    "df= format_data(data_dict)\n",
    "df = df.iloc[-20:]\n",
    "print(len(df), df)"
   ]
  },
  {
   "cell_type": "code",
   "execution_count": 5,
   "metadata": {},
   "outputs": [],
   "source": [
    "def get_scaled_data(df, scaler: MinMaxScaler, target_column: str = 'Close'):\n",
    "    target_column_index = df.columns.tolist().index(target_column)\n",
    "    scaled_data = scaler.fit_transform(df)\n",
    "    return scaled_data, target_column_index"
   ]
  },
  {
   "cell_type": "code",
   "execution_count": 6,
   "metadata": {},
   "outputs": [],
   "source": [
    "scaled_data, target_column_index = get_scaled_data(df=df, scaler=scaler)"
   ]
  },
  {
   "cell_type": "code",
   "execution_count": 7,
   "metadata": {},
   "outputs": [
    {
     "name": "stdout",
     "output_type": "stream",
     "text": [
      "10\n",
      "20\n",
      "[[[0.19645341 0.29284333 0.23132075 0.33589462 0.33589462 0.26959134]\n",
      "  [0.34318498 0.28046422 0.24188679 0.24881083 0.24881083 0.20365068]\n",
      "  [0.2159249  0.1106383  0.08528302 0.08013172 0.08013172 0.23344811]\n",
      "  [0.09283727 0.01972921 0.01962264 0.         0.         1.        ]\n",
      "  [0.         0.05106383 0.         0.02378339 0.02378339 0.20739951]\n",
      "  [0.04972184 0.         0.07622642 0.05781193 0.05781193 0.09253266]\n",
      "  [0.13143255 0.13462282 0.15283019 0.21075741 0.21075741 0.13797263]\n",
      "  [0.24235049 0.16866538 0.21735849 0.24185876 0.24185876 0.05932937]\n",
      "  [0.27990264 0.18143133 0.14       0.11452616 0.11452616 0.21608493]\n",
      "  [0.15194715 0.23713733 0.20113208 0.33882181 0.33882181 0.11017902]]]\n"
     ]
    }
   ],
   "source": [
    "def create_dataset(data: np.ndarray, time_step: int=10):\n",
    "    X = []\n",
    "    for i in range(len(data) - time_step):\n",
    "        # Define the range of input sequences\n",
    "        end_ix = i + time_step\n",
    "        \n",
    "        # Ensure that the dataset is within bounds\n",
    "        if end_ix > len(data)-1:\n",
    "            break\n",
    "            \n",
    "        # Extract input and output parts of the pattern\n",
    "        seq_x = data[i:end_ix]\n",
    "        \n",
    "        # Append the parts\n",
    "        X.append(seq_x)\n",
    "    return np.array(X), data.shape[1], time_step\n",
    "\n",
    "X, feature_number, time_step = create_dataset(data=scaled_data)\n",
    "print(len(X))\n",
    "print(len(df))\n",
    "print(X[:1])"
   ]
  },
  {
   "cell_type": "code",
   "execution_count": 8,
   "metadata": {},
   "outputs": [
    {
     "name": "stdout",
     "output_type": "stream",
     "text": [
      "\u001b[1m1/1\u001b[0m \u001b[32m━━━━━━━━━━━━━━━━━━━━\u001b[0m\u001b[37m\u001b[0m \u001b[1m0s\u001b[0m 490ms/step\n",
      "[[0.21608308]\n",
      " [0.29122055]\n",
      " [0.35195678]\n",
      " [0.45166647]\n",
      " [0.52322596]\n",
      " [0.57434475]\n",
      " [0.6663761 ]\n",
      " [0.630796  ]\n",
      " [0.6630873 ]\n",
      " [0.77753574]]\n"
     ]
    }
   ],
   "source": [
    "predicted_data = model.predict(X)\n",
    "print(predicted_data)"
   ]
  },
  {
   "cell_type": "code",
   "execution_count": 9,
   "metadata": {},
   "outputs": [],
   "source": [
    "# Inverse transform the predictions\n",
    "def update_data_to_inverse(predicted_data: np.ndarray, scaler: MinMaxScaler, target_column_index: int, feature_number: int):\n",
    "    new_dataset = np.zeros(shape=(len(predicted_data), feature_number))\n",
    "    new_dataset[:,target_column_index] = predicted_data.flatten()\n",
    "    return scaler.inverse_transform(new_dataset)[:, target_column_index].reshape(-1, 1)"
   ]
  },
  {
   "cell_type": "code",
   "execution_count": 10,
   "metadata": {},
   "outputs": [],
   "source": [
    "predicted_data = update_data_to_inverse(predicted_data=predicted_data, scaler=scaler, target_column_index=target_column_index, feature_number=feature_number)"
   ]
  },
  {
   "cell_type": "code",
   "execution_count": 11,
   "metadata": {},
   "outputs": [
    {
     "name": "stdout",
     "output_type": "stream",
     "text": [
      "             Close  Predicted_close  Desired_prediction\n",
      "07-02 220.27000000     213.39555056                 NaN\n",
      "07-03 221.55000000     215.44905752                 NaN\n",
      "07-05 226.34000000     217.10897893                 NaN\n",
      "07-08 227.82000000     219.83404474                 NaN\n",
      "07-09 228.68000000     221.78976557                 NaN\n",
      "07-10 232.98000000     223.18684213                 NaN\n",
      "07-11 227.57000000     225.70205919                 NaN\n",
      "07-12 230.54000000     224.72965510                 NaN\n",
      "07-15 234.40000000     225.61217614                 NaN\n",
      "07-16 234.82000000     228.74005168        234.82000000\n",
      "07-17          NaN     228.74005168        228.74005168\n"
     ]
    },
    {
     "name": "stderr",
     "output_type": "stream",
     "text": [
      "C:\\Users\\orhun\\AppData\\Local\\Temp\\ipykernel_9004\\3765866443.py:8: FutureWarning: Series.__getitem__ treating keys as positions is deprecated. In a future version, integer keys will always be treated as labels (consistent with DataFrame behavior). To access a value by position, use `ser.iloc[pos]`\n",
      "  desired_prediction[-2] = new_df['Close'][-2]\n",
      "C:\\Users\\orhun\\AppData\\Local\\Temp\\ipykernel_9004\\3765866443.py:9: FutureWarning: Series.__getitem__ treating keys as positions is deprecated. In a future version, integer keys will always be treated as labels (consistent with DataFrame behavior). To access a value by position, use `ser.iloc[pos]`\n",
      "  desired_prediction[-1] = new_df['Predicted_close'][-1]\n"
     ]
    }
   ],
   "source": [
    "new_df = df[['Close']].iloc[-10:].copy()\n",
    "new_df['Predicted_close'] = predicted_data\n",
    "\n",
    "next_day = df.index.max() + pd.DateOffset(days=1)\n",
    "last_prediction = pd.DataFrame({'Close': [np.nan], 'Predicted_close': predicted_data[-1]}, index=[f\"{next_day} 00:00:00\"])\n",
    "desired_prediction = np.full((11,1), np.nan)\n",
    "new_df = pd.concat([new_df, last_prediction])\n",
    "desired_prediction[-2] = new_df['Close'][-2]\n",
    "desired_prediction[-1] = new_df['Predicted_close'][-1]\n",
    "desired_prediction = desired_prediction.reshape(-1,1)\n",
    "new_df['Desired_prediction'] = desired_prediction\n",
    "\n",
    "\n",
    "# Ensure the index is in datetime format\n",
    "new_df.index = pd.to_datetime(new_df.index)\n",
    "\n",
    "# Convert the datetime index to 'day-month' format\n",
    "new_df.index = new_df.index.strftime('%m-%d')\n",
    "\n",
    "print(new_df)\n",
    "\n",
    "#ORDER ??"
   ]
  },
  {
   "cell_type": "code",
   "execution_count": 16,
   "metadata": {},
   "outputs": [],
   "source": [
    "df.to_csv(f'predictions.csv')"
   ]
  },
  {
   "cell_type": "code",
   "execution_count": 17,
   "metadata": {},
   "outputs": [
    {
     "data": {
      "image/png": "[encoded data removed]",
      "text/plain": [
       "<Figure size 640x480 with 1 Axes>"
      ]
     },
     "metadata": {},
     "output_type": "display_data"
    }
   ],
   "source": [
    "plt.plot(new_df['Close'], label='Close')\n",
    "plt.plot(new_df['Predicted_close'], label='Predicted Close')\n",
    "plt.plot(new_df['Desired_prediction'], label='Desired Prediction')\n",
    "plt.title('Predictons')\n",
    "plt.ylabel('Prices')\n",
    "plt.xlabel('Date')\n",
    "plt.legend()\n",
    "plt.savefig('figure.png')"
   ]
  }
 ],
 "metadata": {
  "kernelspec": {
   "display_name": "stockprice",
   "language": "python",
   "name": "python3"
  },
  "language_info": {
   "codemirror_mode": {
    "name": "ipython",
    "version": 3
   },
   "file_extension": ".py",
   "mimetype": "text/x-python",
   "name": "python",
   "nbconvert_exporter": "python",
   "pygments_lexer": "ipython3",
   "version": "3.10.14"
  }
 },
 "nbformat": 4,
 "nbformat_minor": 2
}
